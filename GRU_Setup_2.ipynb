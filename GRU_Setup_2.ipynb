{
 "cells": [
  {
   "cell_type": "code",
   "execution_count": 2,
   "metadata": {},
   "outputs": [
    {
     "name": "stderr",
     "output_type": "stream",
     "text": [
      "/Users/taiwoalabi/anaconda3/lib/python3.6/site-packages/h5py/__init__.py:36: FutureWarning: Conversion of the second argument of issubdtype from `float` to `np.floating` is deprecated. In future, it will be treated as `np.float64 == np.dtype(float).type`.\n",
      "  from ._conv import register_converters as _register_converters\n",
      "Using TensorFlow backend.\n"
     ]
    }
   ],
   "source": [
    "#This code is to implement RNN (Recurrent Neural Networks for sentiment analysis)\n",
    "from keras.layers.recurrent import LSTM\n",
    "from keras.layers import GRU\n",
    "\n",
    "from keras.layers.core import Dense, Dropout, SpatialDropout1D, Activation\n",
    "from keras.layers.convolutional import Conv1D\n",
    "from keras.layers.embeddings import Embedding\n",
    "from keras.layers.pooling import GlobalMaxPooling1D\n",
    "from keras.models import Sequential\n",
    "from keras.preprocessing.sequence import pad_sequences\n",
    "from keras.utils import np_utils\n",
    "from sklearn.model_selection import train_test_split\n",
    "import collections\n",
    "import matplotlib.pyplot as plt\n",
    "import nltk\n",
    "import numpy as np\n",
    "import pandas as pd\n",
    "import gensim, logging\n",
    "from keras.optimizers import SGD\n",
    "from keras.preprocessing import sequence\n",
    "\n",
    "np.random.seed(42)"
   ]
  },
  {
   "cell_type": "code",
   "execution_count": 3,
   "metadata": {},
   "outputs": [],
   "source": [
    "INPUT_FILE = \"/Users/taiwoalabi/Downloads/winemag-data-130k-v2.csv\""
   ]
  },
  {
   "cell_type": "code",
   "execution_count": 4,
   "metadata": {},
   "outputs": [],
   "source": [
    "Marie= pd.read_csv(INPUT_FILE)"
   ]
  },
  {
   "cell_type": "code",
   "execution_count": 5,
   "metadata": {},
   "outputs": [],
   "source": [
    "#Marie[\"Feature1\"] = []\n",
    "for ii in range(len(Marie)):\n",
    "    \n",
    "    Marie.loc[ii,\"Feature1\"] = str(Marie.loc[ii,\"description\"]) + \",\" + str(Marie.loc[ii,\"country\"]) + \",\" + str(Marie.loc[ii,\"province\"]) \\\n",
    "    + str(Marie.loc[ii,\"variety\"]) + \",\" + str(Marie.loc[ii,\"winery\"])"
   ]
  },
  {
   "cell_type": "code",
   "execution_count": 6,
   "metadata": {},
   "outputs": [],
   "source": [
    "Adjective_Nouns= ['JJ', 'JJR','JJS','NN', 'NNS', 'NNP', 'NNPS', 'VBN' ]\n",
    "for ii in range(len(Marie)):\n",
    "    Z= nltk.pos_tag(nltk.word_tokenize(Marie.loc[ii, \"description\"]))\n",
    "    ZZ= [ii[0] for ii in Z if ii[1] in Adjective_Nouns]\n",
    "    Marie.loc[ii,\"POS-Tag\"]= ' '.join(ZZ)"
   ]
  },
  {
   "cell_type": "code",
   "execution_count": 7,
   "metadata": {},
   "outputs": [],
   "source": [
    "VOCAB_SIZE = 5000\n",
    "EMBED_SIZE = 500\n",
    "NUM_FILTERS = 1024\n",
    "NUM_WORDS = 70\n",
    "BATCH_SIZE = 100\n",
    "NUM_EPOCHS = 10"
   ]
  },
  {
   "cell_type": "code",
   "execution_count": 8,
   "metadata": {},
   "outputs": [],
   "source": [
    "counter = collections.Counter()\n",
    "maxlen = 0\n",
    "for iii in range(len(Marie)):\n",
    "    sentence = Marie['POS-Tag'][iii]\n",
    "    words = [x.lower() for x in nltk.word_tokenize(sentence)]\n",
    "    \n",
    "    if len(words) > maxlen:\n",
    "        maxlen = len(words)\n",
    "    for word in words:\n",
    "        counter[word] += 1"
   ]
  },
  {
   "cell_type": "code",
   "execution_count": 9,
   "metadata": {},
   "outputs": [],
   "source": [
    "word2index = collections.defaultdict(int)\n",
    "for wid, word in enumerate(counter.most_common(VOCAB_SIZE)):\n",
    "    word2index[word[0]] = wid + 1\n",
    "vocab_size = len(word2index) + 1\n",
    "index2word = {v:k for k, v in word2index.items()}"
   ]
  },
  {
   "cell_type": "code",
   "execution_count": 10,
   "metadata": {},
   "outputs": [],
   "source": [
    "for ii in range(len(Marie)):\n",
    "    Marie.loc[ii,\"Points1\"] = int(Marie.loc[ii,\"points\"])/100"
   ]
  },
  {
   "cell_type": "code",
   "execution_count": 11,
   "metadata": {},
   "outputs": [],
   "source": [
    "xs, ys = [], []\n",
    "\n",
    "for iii in range(len(Marie)):\n",
    "    sentence = Marie['POS-Tag'][iii]\n",
    "    label = float(Marie['Points1'][iii])\n",
    "    words = [x.lower() for x in nltk.word_tokenize(sentence)]\n",
    "    ys.append((label))\n",
    "    wids = [word2index[word] for word in words]\n",
    "    xs.append(wids)\n",
    "\n",
    "X = pad_sequences(xs, maxlen=maxlen)\n",
    "\n",
    "\n"
   ]
  },
  {
   "cell_type": "code",
   "execution_count": 12,
   "metadata": {},
   "outputs": [],
   "source": [
    "Xtrain, Xtest, Ytrain, Ytest = train_test_split(X, ys, test_size=0.3, random_state=50)"
   ]
  },
  {
   "cell_type": "code",
   "execution_count": 13,
   "metadata": {},
   "outputs": [
    {
     "name": "stdout",
     "output_type": "stream",
     "text": [
      "_________________________________________________________________\n",
      "Layer (type)                 Output Shape              Param #   \n",
      "=================================================================\n",
      "embedding_1 (Embedding)      (None, 71, 500)           2500500   \n",
      "_________________________________________________________________\n",
      "spatial_dropout1d_1 (Spatial (None, 71, 500)           0         \n",
      "_________________________________________________________________\n",
      "gru_1 (GRU)                  (None, 71, 500)           1501500   \n",
      "_________________________________________________________________\n",
      "dropout_1 (Dropout)          (None, 71, 500)           0         \n",
      "_________________________________________________________________\n",
      "gru_2 (GRU)                  (None, 500)               1501500   \n",
      "_________________________________________________________________\n",
      "dense_1 (Dense)              (None, 512)               256512    \n",
      "_________________________________________________________________\n",
      "dropout_2 (Dropout)          (None, 512)               0         \n",
      "_________________________________________________________________\n",
      "dense_2 (Dense)              (None, 256)               131328    \n",
      "_________________________________________________________________\n",
      "dropout_3 (Dropout)          (None, 256)               0         \n",
      "_________________________________________________________________\n",
      "dense_3 (Dense)              (None, 1)                 257       \n",
      "=================================================================\n",
      "Total params: 5,891,597\n",
      "Trainable params: 5,891,597\n",
      "Non-trainable params: 0\n",
      "_________________________________________________________________\n",
      "None\n"
     ]
    }
   ],
   "source": [
    "#Bidirectional LSTM improve accuracy\n",
    "from keras.layers.wrappers import Bidirectional\n",
    "from keras.layers import RepeatVector\n",
    "from keras.layers import TimeDistributed\n",
    "from keras.constraints import maxnorm\n",
    "\n",
    "\n",
    "\n",
    "HIDDEN_LAYER_SIZE = 500\n",
    "\n",
    "\n",
    "\n",
    "\n",
    "model = Sequential()\n",
    "model.add(Embedding(vocab_size, EMBED_SIZE,input_length=maxlen))\n",
    "model.add(SpatialDropout1D(0.3))\n",
    "model.add(GRU(HIDDEN_LAYER_SIZE, return_sequences=True))\n",
    "model.add(Dropout(0.2))\n",
    "model.add(GRU(HIDDEN_LAYER_SIZE, return_sequences=False))\n",
    "#model.add(TimeDistributed(Dense(1)))\n",
    "model.add(Dense(512, activation='relu', kernel_constraint=maxnorm(3)))\n",
    "model.add(Dropout(0.5))\n",
    "model.add(Dense(256, activation='relu', kernel_constraint=maxnorm(3)))\n",
    "model.add(Dropout(0.5))\n",
    "model.add(Dense(1))\n",
    "\n",
    "\n",
    "print(model.summary())"
   ]
  },
  {
   "cell_type": "code",
   "execution_count": 31,
   "metadata": {},
   "outputs": [],
   "source": [
    "from keras import optimizers\n",
    "NUM_EPOCHS = 4\n",
    "lr = 0.001\n",
    "decay = lr/NUM_EPOCHS\n",
    "sgd = optimizers.SGD(lr= lr, decay=decay, momentum = 0.9, nesterov = False)"
   ]
  },
  {
   "cell_type": "code",
   "execution_count": 32,
   "metadata": {},
   "outputs": [],
   "source": [
    "import keras.backend as K\n",
    "def RawDiff(y_true, y_pred):\n",
    "    return ((y_pred)- (y_true))"
   ]
  },
  {
   "cell_type": "code",
   "execution_count": 33,
   "metadata": {},
   "outputs": [
    {
     "name": "stdout",
     "output_type": "stream",
     "text": [
      "Train on 90979 samples, validate on 38992 samples\n",
      "Epoch 1/4\n",
      "90979/90979 [==============================] - 1489s 16ms/step - loss: 0.0026 - mean_absolute_error: 0.0404 - acc: 1.6487e-04 - RawDiff: -0.0037 - val_loss: 9.4702e-04 - val_mean_absolute_error: 0.0248 - val_acc: 1.0259e-04 - val_RawDiff: -0.0043\n",
      "Epoch 2/4\n",
      "90979/90979 [==============================] - 1479s 16ms/step - loss: 0.0020 - mean_absolute_error: 0.0358 - acc: 1.6487e-04 - RawDiff: -0.0026 - val_loss: 9.3187e-04 - val_mean_absolute_error: 0.0246 - val_acc: 1.0259e-04 - val_RawDiff: -0.0035\n",
      "Epoch 3/4\n",
      "90979/90979 [==============================] - 1483s 16ms/step - loss: 0.0017 - mean_absolute_error: 0.0333 - acc: 1.6487e-04 - RawDiff: -0.0020 - val_loss: 9.3614e-04 - val_mean_absolute_error: 0.0247 - val_acc: 1.0259e-04 - val_RawDiff: -0.0046\n",
      "Epoch 4/4\n",
      "90979/90979 [==============================] - 1517s 17ms/step - loss: 0.0016 - mean_absolute_error: 0.0319 - acc: 1.6487e-04 - RawDiff: -0.0017 - val_loss: 9.2317e-04 - val_mean_absolute_error: 0.0245 - val_acc: 1.0259e-04 - val_RawDiff: -0.0033\n",
      "Accuracy: 0.01%\n"
     ]
    }
   ],
   "source": [
    "model.compile(loss=\"mean_squared_error\", optimizer=sgd, metrics=[\"mae\", \"acc\", RawDiff])\n",
    "history = model.fit(Xtrain, Ytrain, batch_size=BATCH_SIZE, epochs=NUM_EPOCHS, validation_data=(Xtest, Ytest))\n",
    "\n",
    "scores = model.evaluate(Xtest, Ytest, verbose=0)\n",
    "print(\"Accuracy: %.2f%%\" % (scores[2]*100))"
   ]
  },
  {
   "cell_type": "code",
   "execution_count": 17,
   "metadata": {},
   "outputs": [
    {
     "data": {
      "image/png": "[encoded data removed]",
      "text/plain": [
       "<matplotlib.figure.Figure at 0x12db553c8>"
      ]
     },
     "metadata": {},
     "output_type": "display_data"
    }
   ],
   "source": [
    "plt.subplot(212)\n",
    "plt.title(\"Loss\")\n",
    "plt.plot(history.history[\"loss\"], color=\"g\", label=\"Train\")\n",
    "plt.plot(history.history[\"val_loss\"], color=\"b\", label=\"Validation\")\n",
    "plt.legend(loc=\"best\")\n",
    "\n",
    "\n",
    "plt.subplot(211)\n",
    "plt.title(\"Mean_Absolute_Error\")\n",
    "plt.plot(history.history[\"mean_absolute_error\"], color=\"g\", label=\"Train\")\n",
    "plt.plot(history.history[\"val_mean_absolute_error\"], color=\"b\", label=\"Validation\")\n",
    "plt.legend(loc=\"best\")\n",
    "\n",
    "#plt.tight_layout()\n",
    "plt.show()"
   ]
  },
  {
   "cell_type": "markdown",
   "metadata": {},
   "source": [
    "### This is for Prediction ###"
   ]
  },
  {
   "cell_type": "code",
   "execution_count": 34,
   "metadata": {},
   "outputs": [],
   "source": [
    "y_pred = model.predict(Xtest)"
   ]
  },
  {
   "cell_type": "code",
   "execution_count": 35,
   "metadata": {},
   "outputs": [],
   "source": [
    "Absolute_Raw=[]\n",
    "Code=[]\n",
    "\n",
    "for ii in range(len(Xtest)):\n",
    "\n",
    "    Absolute_Raw.append(abs(y_pred[ii]-Ytest[ii]))\n",
    "    Code.append(ii)\n",
    "    \n",
    "Resorted = sorted(Absolute_Raw)"
   ]
  },
  {
   "cell_type": "code",
   "execution_count": 37,
   "metadata": {},
   "outputs": [],
   "source": [
    "Index_Value= []\n",
    "for ii in range(len(Resorted)):\n",
    "    Index_Value.append(Absolute_Raw.index(Resorted[ii]))\n",
    "    "
   ]
  },
  {
   "cell_type": "code",
   "execution_count": 39,
   "metadata": {},
   "outputs": [
    {
     "name": "stdout",
     "output_type": "stream",
     "text": [
      "[   0    0    0    0    0    0    0    0    0    0    0    0    0    0\n",
      "    0    0    0    0    0    0    0    0    0    0    0    0    0    0\n",
      "    0    0    0    0    0    0    0    0    0    0    0    0    0    0\n",
      "    0  396    5  135   21   24  134  143  194  224  181  636  128    2\n",
      "  225   11   24   10  346  249    7   16   73  371   87 3401  203  266\n",
      "   35] With Score:  [4.172325e-07]\n",
      "[   0    0    0    0    0    0    0    0    0    0    0    0    0    0\n",
      "    0    0    0    0    0    0    0    0    0    0    0    0    0    0\n",
      "    0    0    0    0    0    0    0    0    0    0    0    0    0    0\n",
      "    0  396    5  135   21   24  134  143  194  224  181  636  128    2\n",
      "  225   11   24   10  346  249    7   16   73  371   87 3401  203  266\n",
      "   35] With Score:  [4.172325e-07]\n",
      "[   0    0    0    0    0    0    0    0    0    0    0    0    0    0\n",
      "    0    0    0    0    0    0    0    0    0    0    0    0    0    0\n",
      "    0    0    0    0    0    0    0    0    0    0    0    0    0    0\n",
      "    0    0    0    0    0    0    0    0   30  164  718    3    5  192\n",
      "   19  195    4  558   30   48 1298   55   33  925    2  151    6  630\n",
      "  109] With Score:  [8.34465e-07]\n",
      "[   0    0    0    0    0    0    0    0    0    0    0    0    0    0\n",
      "    0    0    0    0    0    0    0    0    0    0    0    0    0    0\n",
      "    0    0    0    0    0    0    0    0    0    0    0    0    0    0\n",
      "    0    0    0    0    0    0    0    0    0    0    0    0  571  116\n",
      "    1 1707   13   21   60  173   13  111    2   39   43  285 1397    7\n",
      "  111] With Score:  [1.5497208e-06]\n",
      "[   0    0    0    0    0    0    0    0    0    0    0    0    0    0\n",
      "    0    0    0    0    0    0    0    0    0    0    0    0    0    0\n",
      "    0    0    0    0    0    0    0    0    0    0    0    0    0 4216\n",
      "  183  534    0  183 1535  508 1146  695  175   12 1146    5   34    9\n",
      "    0    0   88   14  385    0 2421  496    8 1737 3662  248  319  656\n",
      "  317] With Score:  [3.7550926e-06]\n",
      "[   0    0    0    0    0    0    0    0    0    0    0    0    0    0\n",
      "    0    0    0    0    0    0    0    0    0    0    0    0    0    0\n",
      "    0    0    0    0    0    0    0    0    0    0    0    0    0    0\n",
      "    0    0    0    0  137 1897  258    5  110  655  129   21   11    9\n",
      "  155 1072   53  147    3  110   40   20   14    4 3039  389  926  554\n",
      " 1825] With Score:  [5.1259995e-06]\n",
      "[   0    0    0    0    0    0    0    0    0    0    0    0    0    0\n",
      "    0    0    0    0    0    0    0    0    0    0    0    0    0    0\n",
      "    0    0    0    0    0    0    0    0    0    0    0    0    0    0\n",
      "    0    0    0    0    0    0    0    0  202  135 1439    5   88 4533\n",
      "  326   41    4   10  127   22    9    2 2201  101    6  124   69    7\n",
      "   35] With Score:  [6.854534e-06]\n",
      "[   0    0    0    0    0    0    0    0    0    0    0    0    0    0\n",
      "    0    0    0    0    0    0    0    0    0    0    0    0    0    0\n",
      "    0    0    0    0    0    0    0    0    0    0    0    0    0    0\n",
      "    0    0    0   65    0    0  200 2101    0   16    1   39   71  498\n",
      "  109   47   40  151    6   95  199   66    7 4352   13   33   55   45\n",
      "   25] With Score:  [8.46386e-06]\n",
      "[   0    0    0    0    0    0    0    0    0    0    0    0    0    0\n",
      "    0    0    0    0    0    0    0    0    0    0    0    0    0    0\n",
      "    0    0    0    0    0    0    0    0    0    0    0    0    0    0\n",
      "    0    0    0   10    5   11    9   29   96  507  110  956  150    0\n",
      "   26  105   47   59    2  225   11   24  110 1317    7   88  147    0\n",
      "   18] With Score:  [8.583069e-06]\n",
      "[   0    0    0    0    0    0    0    0    0    0    0    0    0    0\n",
      "    0    0    0    0    0    0    0    0    0    0    0    0    0    0\n",
      "    0    0    0    0    0    0    0    0    0    0    0    0    0    0\n",
      "    0    0    0    0    0    0    0    0    0    0  265    1  484   26\n",
      "  247  981 1187  658  811  622    0   27    1  206   39    6  125    1\n",
      "  467] With Score:  [8.821487e-06]\n"
     ]
    }
   ],
   "source": [
    "for ii in range(10):\n",
    "    print (Xtest[Index_Value[ii]], \"With Score: \", Resorted[ii])"
   ]
  },
  {
   "cell_type": "code",
   "execution_count": 40,
   "metadata": {},
   "outputs": [
    {
     "name": "stdout",
     "output_type": "stream",
     "text": [
      "off-dry wine offers fresh acidity delicious hints honey yellow fruits fruity rich full typical freshness young Chenin Blanc wine round With Score:  [4.172325e-07]\n",
      "off-dry wine offers fresh acidity delicious hints honey yellow fruits fruity rich full typical freshness young Chenin Blanc wine round With Score:  [4.172325e-07]\n",
      "ripe jammy blackberries cherries dark chocolate soft tannic Cabernet alcohol noticeable heat finish rich glycerols Drink With Score:  [8.34465e-07]\n",
      "Ripe black-skinned fruit underbrush earth whiff crushed herb solid red round palate juicy wild cherry raspberry compote cinnamon hint vanilla anise robust velvety tannins muscle polish note grilled sage finish With Score:  [1.5497208e-06]\n",
      "Light color full fruit ripe jammy wine good core tannins surrounded ripe cherry strawberry-flavored fruits good future dense wine With Score:  [3.7550926e-06]\n",
      "Rich structured complex wine grand cru vines northern slopes Montagne Reims tense packed ripe apple pineapple fruit flavors tension fine vintage age Drink With Score:  [5.1259995e-06]\n",
      "blend Arinto Antão Vaz structured concentrated wine Ripe flowery flavors mango yellow fruit smooth tangy structure pleasure Drink With Score:  [6.854534e-06]\n",
      "Pinot parts found other big ripe raspberry cherry fruit sweet toasty oak brisk acids firm tannins unruly confederation Stash cellar least With Score:  [8.46386e-06]\n",
      "Apple honeydew show nose boxed wine small eco-footprint palate flatter nose green apple skin flavors much texture acidity With Score:  [8.583069e-06]\n",
      "rich soupy enjoyable wine structured likely age years plumy fruits dried fruit richness light tannins With Score:  [8.821487e-06]\n"
     ]
    }
   ],
   "source": [
    "for ii in range(10):\n",
    "    print (Marie.loc[Index_Value[ii],\"POS-Tag\"], \"With Score: \", Resorted[ii])"
   ]
  },
  {
   "cell_type": "code",
   "execution_count": 49,
   "metadata": {},
   "outputs": [],
   "source": [
    "Worst= Resorted[-10:]"
   ]
  },
  {
   "cell_type": "code",
   "execution_count": 50,
   "metadata": {},
   "outputs": [
    {
     "data": {
      "text/plain": [
       "[array([0.10833836], dtype=float32),\n",
       " array([0.10946953], dtype=float32),\n",
       " array([0.10983503], dtype=float32),\n",
       " array([0.11022288], dtype=float32),\n",
       " array([0.11216962], dtype=float32),\n",
       " array([0.11296666], dtype=float32),\n",
       " array([0.11411142], dtype=float32),\n",
       " array([0.11612612], dtype=float32),\n",
       " array([0.11622584], dtype=float32),\n",
       " array([0.11628902], dtype=float32)]"
      ]
     },
     "execution_count": 50,
     "metadata": {},
     "output_type": "execute_result"
    }
   ],
   "source": [
    "Worst"
   ]
  },
  {
   "cell_type": "code",
   "execution_count": 51,
   "metadata": {},
   "outputs": [],
   "source": [
    "Index_Value= []\n",
    "for ii in range(len(Worst)):\n",
    "    Index_Value.append(Absolute_Raw.index(Worst[ii]))"
   ]
  },
  {
   "cell_type": "code",
   "execution_count": 52,
   "metadata": {},
   "outputs": [
    {
     "name": "stdout",
     "output_type": "stream",
     "text": [
      "blend Sangiovese Malbec Cabernet Sauvignon Petite Sirah other varieties wealth ripe dusty black fruit richly round soft palate approachable oaked With Score:  [0.10833836]\n",
      "Dark full-bodied dry Syrah bit rustic sharp acidity blackberry fruit pepper great deal complexity solid red wine drinking hearty meats stews With Score:  [0.10946953]\n",
      "grabs attention dark color potent jam brown sugar aromas Next come dazzling strawberry syrup flavors backed thick tannins good acidity texture astringent tight flavors full tannins way Best With Score:  [0.10983503]\n",
      "good Sauvignon Blanc clean crisp sweet lemon lime vanilla flavors brightened zesty acidity Easy roast chicken With Score:  [0.11022288]\n",
      "62-year-old dry-farmed vines Esola Zinfandel leathery full tobacco dust surrounded spicy red fruit great structure savoriness soft light finish grace years With Score:  [0.11216962]\n",
      "distinctive white combination spice tropical fruit chalky backbone wine elegant ageable fans classic French whites Chablis Pair grilled octopus oysters added appeal With Score:  [0.11296666]\n",
      "best value-oriented Sauvignon Blancs California dry tart acidity flavors lemons limes golden mangoes gooseberries With Score:  [0.11411142]\n",
      "cool-climate bottling young producer tons florality spice violet lilac white pepper herb underscored blueberry tar aromas light lithe body elderberry potpourri pepper flavors tannic tension compelling palate start With Score:  [0.11612612]\n",
      "pale-colored wine—lightly fruity crisp clean texture balanced acidity orange-zest flavor wine refreshing lift end apéritif style ready With Score:  [0.11622584]\n",
      "young Cab while closed tannic enjoyment rich core cassis flavor dry balanced acidity next years With Score:  [0.11628902]\n"
     ]
    }
   ],
   "source": [
    "for ii in range(10):\n",
    "    print (Marie.loc[Index_Value[ii],\"POS-Tag\"], \"With Score: \", Worst[ii])"
   ]
  },
  {
   "cell_type": "code",
   "execution_count": 54,
   "metadata": {},
   "outputs": [
    {
     "name": "stdout",
     "output_type": "stream",
     "text": [
      "This blend of Sangiovese, Malbec, Cabernet Sauvignon, Petite Sirah and other varieties plays well to type. It shows a wealth of ripe, dusty black fruit that's richly round and soft on the palate, approachable and lightly oaked. With Score:  [0.10833836] \n",
      "\n",
      "Dark, full-bodied and dry, this Syrah is a bit rustic, with some sharp acidity accompanying the blackberry fruit and pepper. Doesn't show a great deal of complexity, but it's a solid red wine for drinking now with hearty meats or stews. With Score:  [0.10946953] \n",
      "\n",
      "This grabs attention quickly, with a dark color and potent jam and brown sugar aromas. Next come dazzling strawberry syrup flavors backed by thick tannins and good acidity. The texture is astringent and tight, but the flavors are so full that they meet the tannins half way. Best now through 2019. With Score:  [0.10983503] \n",
      "\n",
      "A good Sauvignon Blanc, clean and crisp, with slightly sweet lemon, lime and vanilla flavors, brightened by zesty acidity. Easy to drink with roast chicken. With Score:  [0.11022288] \n",
      "\n",
      "From 62-year-old, dry-farmed vines, the Esola Zinfandel is leathery, full of tobacco and dust surrounded by spicy red fruit. With great structure and savoriness, it's soft with a light, lingering finish and will develop further with grace another 5–7 years. With Score:  [0.11216962] \n",
      "\n",
      "This is a distinctive white with a combination of spice, tropical fruit and a chalky backbone. The wine is elegant and ageable and will appeal to fans of classic French whites like Chablis. Pair with grilled octopus or oysters for added appeal. With Score:  [0.11296666] \n",
      "\n",
      "This is one of the best value-oriented Sauvignon Blancs in California. It's dry and tart with acidity, along with rewarding flavors of lemons, limes, golden mangoes and gooseberries. With Score:  [0.11411142] \n",
      "\n",
      "This cool-climate bottling from the young producer shows tons of florality and spice, from violet and lilac to white pepper and dried herb, underscored by blueberry and tar aromas. It's light and lithe in body, with elderberry, potpourri and pepper flavors, but the tannic tension is most compelling, clinging to the palate from start to finish. With Score:  [0.11612612] \n",
      "\n",
      "This is a pale-colored wine—lightly fruity and with a crisp clean texture. It is balanced with acidity and orange-zest flavor, giving the wine a refreshing lift at the end. This is an apéritif style, ready to drink now. With Score:  [0.11622584] \n",
      "\n",
      "You'll want to stash this young Cab away for a while because it's too closed and tannic now for enjoyment. But it has a very rich, concentrated core of cassis flavor and is dry and balanced in acidity. Should negotiate the next 6–8 years easily, and maybe longer. With Score:  [0.11628902] \n",
      "\n"
     ]
    }
   ],
   "source": [
    "for ii in range(10):\n",
    "    print (Marie.loc[Index_Value[ii],\"description\"], \"With Score: \", Worst[ii], \"\\n\")"
   ]
  },
  {
   "cell_type": "code",
   "execution_count": null,
   "metadata": {},
   "outputs": [],
   "source": []
  }
 ],
 "metadata": {
  "kernelspec": {
   "display_name": "Python 3",
   "language": "python",
   "name": "python3"
  },
  "language_info": {
   "codemirror_mode": {
    "name": "ipython",
    "version": 3
   },
   "file_extension": ".py",
   "mimetype": "text/x-python",
   "name": "python",
   "nbconvert_exporter": "python",
   "pygments_lexer": "ipython3",
   "version": "3.6.4"
  }
 },
 "nbformat": 4,
 "nbformat_minor": 2
}
